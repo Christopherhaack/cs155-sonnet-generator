{
 "cells": [
  {
   "cell_type": "markdown",
   "metadata": {},
   "source": [
    "## Test HMMLearn API "
   ]
  },
  {
   "cell_type": "markdown",
   "metadata": {},
   "source": [
    "Just trying out HMMs using the hmmlearn package."
   ]
  },
  {
   "cell_type": "code",
   "execution_count": 1,
   "metadata": {
    "collapsed": true
   },
   "outputs": [],
   "source": [
    "import nltk\n",
    "import string\n",
    "import json\n",
    "import numpy as np\n",
    "\n",
    "from nltk.tokenize import RegexpTokenizer"
   ]
  },
  {
   "cell_type": "code",
   "execution_count": 2,
   "metadata": {
    "collapsed": true
   },
   "outputs": [],
   "source": [
    "def split_lines(filename):\n",
    "    \"\"\"\n",
    "    Tokenizes the file and returns a list of tokens for\n",
    "    each line of poetry in the file.\n",
    "    \"\"\"\n",
    "    # Keep apostrophes and hyphens\n",
    "    tokenizer = RegexpTokenizer('\\w[\\w|\\'|-]*\\w|\\w') \n",
    "\n",
    "    line_tokens = []\n",
    "    with open(filename) as f:\n",
    "        for line in f:\n",
    "            line = line.strip()\n",
    "            if (line.isdigit()):\n",
    "                continue\n",
    "            if (len(line) > 0):\n",
    "                line = line.lower()\n",
    "                tokens = tokenizer.tokenize(line)\n",
    "                \n",
    "                if len(tokens) > 1:\n",
    "                    line_tokens.append(tokens)\n",
    "\n",
    "    return line_tokens"
   ]
  },
  {
   "cell_type": "code",
   "execution_count": 3,
   "metadata": {
    "collapsed": false
   },
   "outputs": [],
   "source": [
    "files = ['../data/shakespeare.txt', '../data/shakespeare_xtra.txt',\\\n",
    "            '../data/spenser.txt']\n",
    "\n",
    "lines = []\n",
    "for filename in files:\n",
    "    lines.extend(split_lines(filename))"
   ]
  },
  {
   "cell_type": "code",
   "execution_count": 4,
   "metadata": {
    "collapsed": false
   },
   "outputs": [],
   "source": [
    "vocab = json.load(open('../models/words/vocab.json'))"
   ]
  },
  {
   "cell_type": "code",
   "execution_count": 5,
   "metadata": {
    "collapsed": false
   },
   "outputs": [],
   "source": [
    "# Change to integer keys\n",
    "for k in vocab.keys():\n",
    "    vocab[int(k)] = vocab.pop(k)"
   ]
  },
  {
   "cell_type": "code",
   "execution_count": 6,
   "metadata": {
    "collapsed": false
   },
   "outputs": [],
   "source": [
    "inverted_vocab = json.load(open('../models/words/inverted_vocab.json'))"
   ]
  },
  {
   "cell_type": "code",
   "execution_count": 7,
   "metadata": {
    "collapsed": false
   },
   "outputs": [],
   "source": [
    "from hmmlearn import hmm"
   ]
  },
  {
   "cell_type": "code",
   "execution_count": 8,
   "metadata": {
    "collapsed": false
   },
   "outputs": [],
   "source": [
    "X = np.concatenate([[inverted_vocab[x] for x in lines[i]] for i in range(len(lines))])"
   ]
  },
  {
   "cell_type": "code",
   "execution_count": 9,
   "metadata": {
    "collapsed": true
   },
   "outputs": [],
   "source": [
    "X = X.reshape(-1, 1)"
   ]
  },
  {
   "cell_type": "code",
   "execution_count": 10,
   "metadata": {
    "collapsed": false
   },
   "outputs": [],
   "source": [
    "lengths = np.array([len(line) for line in lines])"
   ]
  },
  {
   "cell_type": "markdown",
   "metadata": {},
   "source": [
    "Use 10 hidden states, to keep things small. Verbose prints log-likelihood in first column, and rate of convergence in the second."
   ]
  },
  {
   "cell_type": "code",
   "execution_count": null,
   "metadata": {
    "collapsed": false
   },
   "outputs": [
    {
     "name": "stderr",
     "output_type": "stream",
     "text": [
      "         1     -482695.2551             +nan\n",
      "         2     -368631.1423     +114064.1128\n",
      "         3     -368605.9119         +25.2304\n",
      "         4     -368557.0825         +48.8293\n",
      "         5     -368458.7204         +98.3621\n",
      "         6     -368266.8160        +191.9044\n",
      "         7     -367917.4969        +349.3191\n",
      "         8     -367346.5002        +570.9967\n",
      "         9     -366536.9994        +809.5008\n",
      "        10     -365568.8646        +968.1348\n",
      "        11     -364617.8015        +951.0631\n",
      "        12     -363860.1170        +757.6845\n",
      "        13     -363344.2211        +515.8959\n",
      "        14     -362992.0075        +352.2136\n",
      "        15     -362694.7891        +297.2184\n",
      "        16     -362359.4432        +335.3458\n",
      "        17     -361901.5263        +457.9170\n",
      "        18     -361234.0832        +667.4431\n",
      "        19     -360273.1090        +960.9742\n",
      "        20     -358962.1335       +1310.9755\n",
      "        21     -357310.7482       +1651.3853\n",
      "        22     -355422.0741       +1888.6741\n",
      "        23     -353478.2949       +1943.7792\n",
      "        24     -351660.9741       +1817.3207\n",
      "        25     -350053.5866       +1607.3875\n",
      "        26     -348657.6236       +1395.9630\n",
      "        27     -347445.0452       +1212.5784\n",
      "        28     -346392.9988       +1052.0464\n",
      "        29     -345484.2708        +908.7280\n",
      "        30     -344699.7413        +784.5295\n",
      "        31     -344006.0286        +693.7127\n",
      "        32     -343373.2297        +632.7989\n",
      "        33     -342784.2938        +588.9359\n",
      "        34     -342242.4506        +541.8432\n",
      "        35     -341763.4305        +479.0201\n",
      "        36     -341350.8855        +412.5451\n",
      "        37     -340995.5489        +355.3366\n",
      "        38     -340692.8377        +302.7112\n",
      "        39     -340431.0299        +261.8078\n",
      "        40     -340203.6615        +227.3684\n",
      "        41     -340005.9577        +197.7038\n",
      "        42     -339831.5677        +174.3900\n",
      "        43     -339677.1026        +154.4651\n",
      "        44     -339538.2337        +138.8689\n",
      "        45     -339412.1487        +126.0850\n",
      "        46     -339300.6675        +111.4812\n",
      "        47     -339196.9029        +103.7646\n",
      "        48     -339099.8229         +97.0801\n",
      "        49     -339008.8508         +90.9720\n",
      "        50     -338919.8810         +88.9698\n",
      "        51     -338828.6505         +91.2304\n",
      "        52     -338745.3871         +83.2634\n",
      "        53     -338667.3154         +78.0717\n",
      "        54     -338593.8831         +73.4323\n",
      "        55     -338523.8934         +69.9897\n",
      "        56     -338454.4474         +69.4460\n",
      "        57     -338382.6238         +71.8236\n",
      "        58     -338308.5987         +74.0251\n",
      "        59     -338240.2393         +68.3593\n",
      "        60     -338176.7259         +63.5134\n",
      "        61     -338117.7344         +58.9915\n",
      "        62     -338064.6752         +53.0592\n",
      "        63     -338014.0427         +50.6325\n",
      "        64     -337963.2707         +50.7720\n",
      "        65     -337911.3147         +51.9560\n",
      "        66     -337859.6333         +51.6814\n",
      "        67     -337808.5453         +51.0880\n",
      "        68     -337761.0260         +47.5194\n",
      "        69     -337714.8736         +46.1524\n",
      "        70     -337667.8879         +46.9857\n",
      "        71     -337618.5475         +49.3404\n",
      "        72     -337571.1332         +47.4143\n",
      "        73     -337525.8215         +45.3117\n",
      "        74     -337480.9569         +44.8647\n",
      "        75     -337440.5260         +40.4309\n",
      "        76     -337401.1430         +39.3830\n",
      "        77     -337359.1182         +42.0247\n",
      "        78     -337319.2605         +39.8577\n",
      "        79     -337283.3535         +35.9070\n",
      "        80     -337251.7827         +31.5708\n",
      "        81     -337221.5896         +30.1931\n",
      "        82     -337190.5421         +31.0475\n",
      "        83     -337159.3296         +31.2125\n",
      "        84     -337130.4500         +28.8797\n",
      "        85     -337101.2529         +29.1970\n",
      "        86     -337067.8080         +33.4450\n",
      "        87     -337039.8796         +27.9284\n",
      "        88     -337013.9863         +25.8933\n",
      "        89     -336984.8747         +29.1116\n",
      "        90     -336957.0616         +27.8131\n",
      "        91     -336929.6137         +27.4479\n",
      "        92     -336903.2588         +26.3549\n",
      "        93     -336873.2215         +30.0374\n",
      "        94     -336841.4749         +31.7466\n",
      "        95     -336811.9766         +29.4983\n",
      "        96     -336789.3891         +22.5875\n",
      "        97     -336767.6896         +21.6995\n",
      "        98     -336741.9626         +25.7269\n",
      "        99     -336715.4078         +26.5548\n",
      "       100     -336688.1149         +27.2929\n",
      "       101     -336666.1988         +21.9161\n",
      "       102     -336646.3530         +19.8457\n",
      "       103     -336625.2150         +21.1380\n",
      "       104     -336602.3793         +22.8358\n",
      "       105     -336579.2780         +23.1013\n",
      "       106     -336557.4861         +21.7918\n",
      "       107     -336536.3429         +21.1433\n",
      "       108     -336516.2345         +20.1083\n",
      "       109     -336495.3694         +20.8652\n",
      "       110     -336473.1851         +22.1842\n",
      "       111     -336449.1960         +23.9892\n",
      "       112     -336424.2962         +24.8998\n",
      "       113     -336403.5728         +20.7234\n",
      "       114     -336386.4272         +17.1456\n",
      "       115     -336368.9167         +17.5105\n",
      "       116     -336350.5478         +18.3689\n",
      "       117     -336333.0793         +17.4685\n",
      "       118     -336315.6522         +17.4271\n",
      "       119     -336297.6405         +18.0117\n",
      "       120     -336279.4954         +18.1451\n",
      "       121     -336260.6671         +18.8283\n",
      "       122     -336242.6435         +18.0236\n",
      "       123     -336227.6447         +14.9988\n",
      "       124     -336214.4999         +13.1448\n",
      "       125     -336200.0039         +14.4960\n",
      "       126     -336184.3568         +15.6471\n"
     ]
    }
   ],
   "source": [
    "with np.errstate(divide='ignore'):\n",
    "    model = hmm.MultinomialHMM(n_components=10, n_iter=1000, verbose=True).fit(X, lengths)"
   ]
  },
  {
   "cell_type": "code",
   "execution_count": 28,
   "metadata": {
    "collapsed": false
   },
   "outputs": [
    {
     "data": {
      "text/plain": [
       "7283"
      ]
     },
     "execution_count": 28,
     "metadata": {},
     "output_type": "execute_result"
    }
   ],
   "source": [
    "model.n_features"
   ]
  },
  {
   "cell_type": "code",
   "execution_count": 29,
   "metadata": {
    "collapsed": false
   },
   "outputs": [
    {
     "data": {
      "text/plain": [
       "(10, 10)"
      ]
     },
     "execution_count": 29,
     "metadata": {},
     "output_type": "execute_result"
    }
   ],
   "source": [
    "model.transmat_.shape"
   ]
  },
  {
   "cell_type": "code",
   "execution_count": 30,
   "metadata": {
    "collapsed": false
   },
   "outputs": [
    {
     "data": {
      "text/plain": [
       "(10, 7283)"
      ]
     },
     "execution_count": 30,
     "metadata": {},
     "output_type": "execute_result"
    }
   ],
   "source": [
    "model.emissionprob_.shape"
   ]
  },
  {
   "cell_type": "code",
   "execution_count": 31,
   "metadata": {
    "collapsed": false
   },
   "outputs": [
    {
     "data": {
      "text/plain": [
       "array([  1.29665930e-181,   6.60752861e-223,   9.36255582e-176,\n",
       "         6.78909443e-001,   1.91020945e-121,   3.61238423e-003,\n",
       "         1.73133459e-224,   0.00000000e+000,   1.52983393e-136,\n",
       "         3.17478173e-001])"
      ]
     },
     "execution_count": 31,
     "metadata": {},
     "output_type": "execute_result"
    }
   ],
   "source": [
    "model.startprob_"
   ]
  },
  {
   "cell_type": "markdown",
   "metadata": {},
   "source": [
    "Check matrix rows sum to 1"
   ]
  },
  {
   "cell_type": "code",
   "execution_count": 32,
   "metadata": {
    "collapsed": false
   },
   "outputs": [
    {
     "data": {
      "text/plain": [
       "array([ 1.,  1.,  1.,  1.,  1.,  1.,  1.,  1.,  1.,  1.])"
      ]
     },
     "execution_count": 32,
     "metadata": {},
     "output_type": "execute_result"
    }
   ],
   "source": [
    "np.sum(model.emissionprob_, axis=1)"
   ]
  },
  {
   "cell_type": "markdown",
   "metadata": {},
   "source": [
    "Test a prediction by the HMM"
   ]
  },
  {
   "cell_type": "code",
   "execution_count": 33,
   "metadata": {
    "collapsed": true
   },
   "outputs": [],
   "source": [
    "sample, hidden = model.sample(10)"
   ]
  },
  {
   "cell_type": "code",
   "execution_count": 34,
   "metadata": {
    "collapsed": false
   },
   "outputs": [
    {
     "data": {
      "text/plain": [
       "array([ 230, 1936, 2131, 2703, 4296, 2071,  226, 7143, 1213, 1955])"
      ]
     },
     "execution_count": 34,
     "metadata": {},
     "output_type": "execute_result"
    }
   ],
   "source": [
    "sample.T[0]"
   ]
  },
  {
   "cell_type": "code",
   "execution_count": 35,
   "metadata": {
    "collapsed": false
   },
   "outputs": [
    {
     "data": {
      "text/plain": [
       "u'letter thee thy heaven eyes ill shall will thou forty'"
      ]
     },
     "execution_count": 35,
     "metadata": {},
     "output_type": "execute_result"
    }
   ],
   "source": [
    "\" \".join(map(lambda x: vocab[x], sample.T[0]))"
   ]
  },
  {
   "cell_type": "code",
   "execution_count": 28,
   "metadata": {
    "collapsed": true
   },
   "outputs": [],
   "source": [
    "from sklearn.externals import joblib"
   ]
  },
  {
   "cell_type": "code",
   "execution_count": 37,
   "metadata": {
    "collapsed": false
   },
   "outputs": [
    {
     "data": {
      "text/plain": [
       "['../models/hmm_10.pkl']"
      ]
     },
     "execution_count": 37,
     "metadata": {},
     "output_type": "execute_result"
    }
   ],
   "source": [
    "joblib.dump(model, \"../models/hmm_10.pkl\")"
   ]
  },
  {
   "cell_type": "markdown",
   "metadata": {
    "collapsed": true
   },
   "source": [
    "## Train Supervised HMM"
   ]
  },
  {
   "cell_type": "code",
   "execution_count": 3,
   "metadata": {
    "collapsed": true
   },
   "outputs": [],
   "source": [
    "files = ['../data/shakespeare.txt', '../data/shakespeare_xtra.txt',\\\n",
    "            '../data/spenser.txt']\n",
    "\n",
    "lines = []\n",
    "for filename in files:\n",
    "    lines.extend(split_lines(filename))"
   ]
  },
  {
   "cell_type": "code",
   "execution_count": 4,
   "metadata": {
    "collapsed": false
   },
   "outputs": [],
   "source": [
    "pos = []\n",
    "p_set = set()\n",
    "for line in lines:\n",
    "    tagged = nltk.pos_tag(line)\n",
    "    w,p = zip(*tagged)\n",
    "    pos.append(list(p))\n",
    "    \n",
    "    p_set |= set(list(p))"
   ]
  },
  {
   "cell_type": "code",
   "execution_count": 5,
   "metadata": {
    "collapsed": true
   },
   "outputs": [],
   "source": [
    "pos_indices = dict((c, i) for i, c in enumerate(p_set))\n",
    "indices_pos = dict((i, c) for i, c in enumerate(p_set))"
   ]
  },
  {
   "cell_type": "code",
   "execution_count": 10,
   "metadata": {
    "collapsed": false
   },
   "outputs": [],
   "source": [
    "X = []\n",
    "for line in lines:\n",
    "    X.append([inverted_vocab[w] for w in line][::-1])"
   ]
  },
  {
   "cell_type": "code",
   "execution_count": 11,
   "metadata": {
    "collapsed": false
   },
   "outputs": [],
   "source": [
    "Y = []\n",
    "for p in pos:\n",
    "    Y.append([pos_indices[i] for i in p][::-1])"
   ]
  },
  {
   "cell_type": "code",
   "execution_count": 12,
   "metadata": {
    "collapsed": false
   },
   "outputs": [],
   "source": [
    "L = len(indices_pos.keys())\n",
    "D = len(inverted_vocab.keys())"
   ]
  },
  {
   "cell_type": "code",
   "execution_count": 13,
   "metadata": {
    "collapsed": false
   },
   "outputs": [],
   "source": [
    "A = np.zeros((L, L))\n",
    "O = np.zeros((L, D))\n",
    "A_start = np.array([ 1. / L for _ in range(L)])"
   ]
  },
  {
   "cell_type": "code",
   "execution_count": 4,
   "metadata": {
    "collapsed": false
   },
   "outputs": [],
   "source": [
    "from sonnetHMM import BackwardsSonnetHMM"
   ]
  },
  {
   "cell_type": "code",
   "execution_count": 21,
   "metadata": {
    "collapsed": false
   },
   "outputs": [],
   "source": [
    "model = BackwardsSonnetHMM(A, O, A_start)"
   ]
  },
  {
   "cell_type": "code",
   "execution_count": 22,
   "metadata": {
    "collapsed": false
   },
   "outputs": [],
   "source": [
    "model.supervised_learning(X, Y)"
   ]
  },
  {
   "cell_type": "code",
   "execution_count": 33,
   "metadata": {
    "collapsed": false
   },
   "outputs": [],
   "source": [
    "np.savetxt(\"../models/pos_A.txt\", model.A)"
   ]
  },
  {
   "cell_type": "code",
   "execution_count": 34,
   "metadata": {
    "collapsed": true
   },
   "outputs": [],
   "source": [
    "np.savetxt(\"../models/pos_O.txt\", model.O)\n",
    "np.savetxt(\"../models/pos_A_start.txt\", model.A_start)"
   ]
  }
 ],
 "metadata": {
  "kernelspec": {
   "display_name": "Python 2",
   "language": "python",
   "name": "python2"
  },
  "language_info": {
   "codemirror_mode": {
    "name": "ipython",
    "version": 2
   },
   "file_extension": ".py",
   "mimetype": "text/x-python",
   "name": "python",
   "nbconvert_exporter": "python",
   "pygments_lexer": "ipython2",
   "version": "2.7.11"
  }
 },
 "nbformat": 4,
 "nbformat_minor": 1
}
