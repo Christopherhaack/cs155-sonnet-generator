{
 "cells": [
  {
   "cell_type": "code",
   "execution_count": 35,
   "metadata": {
    "collapsed": true
   },
   "outputs": [],
   "source": [
    "import nltk\n",
    "import string"
   ]
  },
  {
   "cell_type": "code",
   "execution_count": 2,
   "metadata": {
    "collapsed": true
   },
   "outputs": [],
   "source": [
    "filename = 'data/shakespeare.txt'"
   ]
  },
  {
   "cell_type": "code",
   "execution_count": 19,
   "metadata": {
    "collapsed": true
   },
   "outputs": [],
   "source": [
    "from nltk.tokenize import RegexpTokenizer\n",
    "from nltk.corpus import cmudict"
   ]
  },
  {
   "cell_type": "markdown",
   "metadata": {},
   "source": [
    "Tokenize the words, but preserve apostrophes and hyphens in the same word, and ignore other punctuation"
   ]
  },
  {
   "cell_type": "code",
   "execution_count": 69,
   "metadata": {
    "collapsed": false,
    "scrolled": false
   },
   "outputs": [],
   "source": [
    "tokenizer = RegexpTokenizer('[\\w|\\'|-]+') # keep apostrophes and hyphens\n",
    "\n",
    "line_tokens = []\n",
    "with open(filename) as f:\n",
    "    for line in f:\n",
    "        line = line.strip()\n",
    "        if (line.isdigit()):\n",
    "            continue\n",
    "        if (len(line) > 0):\n",
    "            line = line.lower()\n",
    "            tokens = tokenizer.tokenize(line)\n",
    "            \n",
    "            line_tokens.append(tokens)"
   ]
  },
  {
   "cell_type": "code",
   "execution_count": 50,
   "metadata": {
    "collapsed": false
   },
   "outputs": [],
   "source": [
    "d = cmudict.dict()"
   ]
  },
  {
   "cell_type": "code",
   "execution_count": 124,
   "metadata": {
    "collapsed": false
   },
   "outputs": [],
   "source": [
    "from utils import syl_count"
   ]
  },
  {
   "cell_type": "code",
   "execution_count": 81,
   "metadata": {
    "collapsed": false
   },
   "outputs": [
    {
     "data": {
      "text/plain": [
       "['but', 'as', 'the', 'riper', 'should', 'by', 'time', 'decease']"
      ]
     },
     "execution_count": 81,
     "metadata": {},
     "output_type": "execute_result"
    }
   ],
   "source": [
    "line_tokens[2]"
   ]
  },
  {
   "cell_type": "code",
   "execution_count": 168,
   "metadata": {
    "collapsed": true
   },
   "outputs": [],
   "source": [
    "meter = {}\n",
    "rhyme = {}"
   ]
  },
  {
   "cell_type": "markdown",
   "metadata": {},
   "source": [
    "Store the meter of the word, as well as its rhyme scheme, for use later on in improving poem generation"
   ]
  },
  {
   "cell_type": "code",
   "execution_count": 169,
   "metadata": {
    "collapsed": false
   },
   "outputs": [],
   "source": [
    "def parse_line(line):\n",
    "    def syl(pronunciation):\n",
    "        return len([i[-1] for i in pronunciation if \\\n",
    "                i[-1].isdigit()])\n",
    "    \n",
    "    tot = 0\n",
    "    for word in line:\n",
    "        try:\n",
    "            pronounciation = d[word][0]\n",
    "            s = syl(pronounciation)\n",
    "            \n",
    "            sk = ','.join(pronounciation[-2:])\n",
    "            \n",
    "            if sk in rhyme.keys():\n",
    "                rhyme[sk].add(word)\n",
    "            else:\n",
    "                rhyme[sk] = set()\n",
    "                rhyme[sk].add(word)\n",
    "            \n",
    "        except (KeyError):\n",
    "            s = syl_count(word)\n",
    "        \n",
    "        stress = []\n",
    "        for i in xrange(s):\n",
    "            if (tot + i) % 2 == 0:\n",
    "                stress.append(0)\n",
    "            else:\n",
    "                stress.append(1)\n",
    "        \n",
    "        mk = ','.join(str(i) for i in stress)\n",
    "        if mk in meter.keys():\n",
    "            meter[mk].add(word)\n",
    "        else:\n",
    "            meter[mk] = set()\n",
    "            meter[mk].add(word)\n",
    "        \n",
    "        tot += s"
   ]
  },
  {
   "cell_type": "markdown",
   "metadata": {},
   "source": [
    "Just a function to test ho"
   ]
  },
  {
   "cell_type": "code",
   "execution_count": 174,
   "metadata": {
    "collapsed": true
   },
   "outputs": [],
   "source": [
    "def find_rhymes(w):\n",
    "    entries = nltk.corpus.cmudict.entries()\n",
    "    syllables = [(word, syl) for word, syl in entries if word == w]\n",
    "    rhymes = []\n",
    "    for (word, syllable) in syllables:\n",
    "        rhymes += [word for word, pron in entries if pron[-2:] == syllable[-2:]]\n",
    "    return set(rhymes)"
   ]
  },
  {
   "cell_type": "code",
   "execution_count": null,
   "metadata": {
    "collapsed": true
   },
   "outputs": [],
   "source": []
  }
 ],
 "metadata": {
  "kernelspec": {
   "display_name": "Python 2",
   "language": "python",
   "name": "python2"
  },
  "language_info": {
   "codemirror_mode": {
    "name": "ipython",
    "version": 2
   },
   "file_extension": ".py",
   "mimetype": "text/x-python",
   "name": "python",
   "nbconvert_exporter": "python",
   "pygments_lexer": "ipython2",
   "version": "2.7.11"
  }
 },
 "nbformat": 4,
 "nbformat_minor": 1
}
