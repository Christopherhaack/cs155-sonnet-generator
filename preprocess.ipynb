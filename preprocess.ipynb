{
 "cells": [
  {
   "cell_type": "markdown",
   "metadata": {},
   "source": [
    "## Find Rhyme and Meter of Words"
   ]
  },
  {
   "cell_type": "code",
   "execution_count": 1,
   "metadata": {
    "collapsed": true
   },
   "outputs": [],
   "source": [
    "import nltk\n",
    "import string"
   ]
  },
  {
   "cell_type": "code",
   "execution_count": 2,
   "metadata": {
    "collapsed": true
   },
   "outputs": [],
   "source": [
    "filename = 'data/shakespeare.txt'"
   ]
  },
  {
   "cell_type": "code",
   "execution_count": 5,
   "metadata": {
    "collapsed": true
   },
   "outputs": [],
   "source": [
    "from nltk.tokenize import RegexpTokenizer\n",
    "from nltk.corpus import cmudict"
   ]
  },
  {
   "cell_type": "markdown",
   "metadata": {},
   "source": [
    "Tokenize the words, but preserve apostrophes and hyphens in the same word, and ignore other punctuation"
   ]
  },
  {
   "cell_type": "code",
   "execution_count": 277,
   "metadata": {
    "collapsed": false,
    "scrolled": false
   },
   "outputs": [],
   "source": [
    "tokenizer = RegexpTokenizer('[\\w|\\'|-]+') # keep apostrophes and hyphens\n",
    "\n",
    "line_tokens = []\n",
    "with open(filename) as f:\n",
    "    for line in f:\n",
    "        line = line.strip()\n",
    "        if (line.isdigit()):\n",
    "            continue\n",
    "        if (len(line) > 0):\n",
    "            line = line.lower()\n",
    "            tokens = tokenizer.tokenize(line)\n",
    "            \n",
    "            line_tokens.append(tokens)"
   ]
  },
  {
   "cell_type": "code",
   "execution_count": 50,
   "metadata": {
    "collapsed": false
   },
   "outputs": [],
   "source": [
    "d = cmudict.dict()"
   ]
  },
  {
   "cell_type": "code",
   "execution_count": 124,
   "metadata": {
    "collapsed": false
   },
   "outputs": [],
   "source": [
    "from utils import syl_count"
   ]
  },
  {
   "cell_type": "code",
   "execution_count": 81,
   "metadata": {
    "collapsed": false
   },
   "outputs": [
    {
     "data": {
      "text/plain": [
       "['but', 'as', 'the', 'riper', 'should', 'by', 'time', 'decease']"
      ]
     },
     "execution_count": 81,
     "metadata": {},
     "output_type": "execute_result"
    }
   ],
   "source": [
    "line_tokens[2]"
   ]
  },
  {
   "cell_type": "code",
   "execution_count": 168,
   "metadata": {
    "collapsed": true
   },
   "outputs": [],
   "source": [
    "meter = {}\n",
    "rhyme = {}"
   ]
  },
  {
   "cell_type": "markdown",
   "metadata": {},
   "source": [
    "Store the meter of the word, as well as its rhyme scheme, for use later on in improving poem generation"
   ]
  },
  {
   "cell_type": "code",
   "execution_count": 169,
   "metadata": {
    "collapsed": false
   },
   "outputs": [],
   "source": [
    "def parse_line(line):\n",
    "    def syl(pronunciation):\n",
    "        return len([i[-1] for i in pronunciation if \\\n",
    "                i[-1].isdigit()])\n",
    "    \n",
    "    tot = 0\n",
    "    for word in line:\n",
    "        try:\n",
    "            pronounciation = d[word][0]\n",
    "            s = syl(pronounciation)\n",
    "            \n",
    "            sk = ','.join(pronounciation[-2:])\n",
    "            \n",
    "            if sk in rhyme.keys():\n",
    "                rhyme[sk].add(word)\n",
    "            else:\n",
    "                rhyme[sk] = set()\n",
    "                rhyme[sk].add(word)\n",
    "            \n",
    "        except (KeyError):\n",
    "            s = syl_count(word)\n",
    "        \n",
    "        stress = []\n",
    "        for i in xrange(s):\n",
    "            if (tot + i) % 2 == 0:\n",
    "                stress.append(0)\n",
    "            else:\n",
    "                stress.append(1)\n",
    "        \n",
    "        mk = ','.join(str(i) for i in stress)\n",
    "        if mk in meter.keys():\n",
    "            meter[mk].add(word)\n",
    "        else:\n",
    "            meter[mk] = set()\n",
    "            meter[mk].add(word)\n",
    "        \n",
    "        tot += s"
   ]
  },
  {
   "cell_type": "markdown",
   "metadata": {},
   "source": [
    "Just a function to test how well cmudict can be used to find rhyming words"
   ]
  },
  {
   "cell_type": "code",
   "execution_count": 30,
   "metadata": {
    "collapsed": true
   },
   "outputs": [],
   "source": [
    "def find_rhymes(w):\n",
    "    entries = nltk.corpus.cmudict.entries()\n",
    "    syllables = [(word, syl) for word, syl in entries if word == w]\n",
    "    rhymes = []\n",
    "    for (word, syllable) in syllables:\n",
    "        rhymes += [word for word, pron in entries if pron[-2:] == syllable[-2:]]\n",
    "    return set(rhymes)"
   ]
  },
  {
   "cell_type": "markdown",
   "metadata": {},
   "source": [
    "## Build Word2Vec Model"
   ]
  },
  {
   "cell_type": "code",
   "execution_count": 2,
   "metadata": {
    "collapsed": false
   },
   "outputs": [],
   "source": [
    "import gensim"
   ]
  },
  {
   "cell_type": "code",
   "execution_count": 3,
   "metadata": {
    "collapsed": true
   },
   "outputs": [],
   "source": [
    "def split_lines(filename):\n",
    "    \"\"\"\n",
    "    Tokenizes the file and returns a list of tokens for\n",
    "    each line of poetry in the file.\n",
    "    \"\"\"\n",
    "    # Keep apostrophes and hyphens\n",
    "    tokenizer = RegexpTokenizer('\\w[\\w|\\'|-]+\\w') \n",
    "\n",
    "    line_tokens = []\n",
    "    with open(filename) as f:\n",
    "        for line in f:\n",
    "            line = line.strip()\n",
    "            if (line.isdigit()):\n",
    "                continue\n",
    "            if (len(line) > 0):\n",
    "                line = line.lower()\n",
    "                tokens = tokenizer.tokenize(line)\n",
    "                \n",
    "                line_tokens.append(tokens)\n",
    "\n",
    "    return line_tokens"
   ]
  },
  {
   "cell_type": "code",
   "execution_count": 8,
   "metadata": {
    "collapsed": false
   },
   "outputs": [],
   "source": [
    "files = ['data/shakespeare.txt', 'data/shakespeare_xtra.txt', 'data/spenser.txt']\n",
    "\n",
    "line_tokens = []\n",
    "for filename in files:\n",
    "    line_tokens.extend(split_lines(filename))"
   ]
  },
  {
   "cell_type": "code",
   "execution_count": 9,
   "metadata": {
    "collapsed": false
   },
   "outputs": [
    {
     "data": {
      "text/plain": [
       "6875"
      ]
     },
     "execution_count": 9,
     "metadata": {},
     "output_type": "execute_result"
    }
   ],
   "source": [
    "len(line_tokens)"
   ]
  },
  {
   "cell_type": "code",
   "execution_count": 10,
   "metadata": {
    "collapsed": false
   },
   "outputs": [],
   "source": [
    "stops = set(line.strip() for line in open('data/stopwords_elizabethan.txt'))\n",
    "\n",
    "for i in xrange(len(line_tokens)):\n",
    "    line_tokens[i] = [w for w in line_tokens[i] if not w in stops]"
   ]
  },
  {
   "cell_type": "code",
   "execution_count": 11,
   "metadata": {
    "collapsed": false
   },
   "outputs": [
    {
     "data": {
      "text/plain": [
       "['fairest', 'creatures', 'desire', 'increase']"
      ]
     },
     "execution_count": 11,
     "metadata": {},
     "output_type": "execute_result"
    }
   ],
   "source": [
    "line_tokens[0]"
   ]
  },
  {
   "cell_type": "code",
   "execution_count": 12,
   "metadata": {
    "collapsed": false
   },
   "outputs": [],
   "source": [
    "model = gensim.models.Word2Vec(line_tokens, min_count=1)"
   ]
  },
  {
   "cell_type": "code",
   "execution_count": 13,
   "metadata": {
    "collapsed": false
   },
   "outputs": [
    {
     "data": {
      "text/plain": [
       "[('death', 0.5836070775985718),\n",
       " ('may', 0.5535811185836792),\n",
       " ('like', 0.5526201725006104),\n",
       " ('fair', 0.5430938005447388),\n",
       " ('heart', 0.5343868732452393),\n",
       " ('still', 0.5268172025680542),\n",
       " ('till', 0.5252523422241211),\n",
       " ('whose', 0.5251906514167786),\n",
       " ('eyes', 0.5181272625923157),\n",
       " ('one', 0.5134645700454712)]"
      ]
     },
     "execution_count": 13,
     "metadata": {},
     "output_type": "execute_result"
    }
   ],
   "source": [
    "model.most_similar(\"love\")"
   ]
  },
  {
   "cell_type": "code",
   "execution_count": 14,
   "metadata": {
    "collapsed": false
   },
   "outputs": [
    {
     "data": {
      "text/plain": [
       "7243"
      ]
     },
     "execution_count": 14,
     "metadata": {},
     "output_type": "execute_result"
    }
   ],
   "source": [
    "len(model.vocab)"
   ]
  },
  {
   "cell_type": "markdown",
   "metadata": {},
   "source": [
    "Try it on lines with a more complex neural model"
   ]
  },
  {
   "cell_type": "code",
   "execution_count": 15,
   "metadata": {
    "collapsed": false
   },
   "outputs": [
    {
     "data": {
      "text/plain": [
       "6875"
      ]
     },
     "execution_count": 15,
     "metadata": {},
     "output_type": "execute_result"
    }
   ],
   "source": [
    "len(line_tokens)"
   ]
  },
  {
   "cell_type": "code",
   "execution_count": 16,
   "metadata": {
    "collapsed": false
   },
   "outputs": [
    {
     "data": {
      "text/plain": [
       "['fairest', 'creatures', 'desire', 'increase']"
      ]
     },
     "execution_count": 16,
     "metadata": {},
     "output_type": "execute_result"
    }
   ],
   "source": [
    "line_tokens[0]"
   ]
  },
  {
   "cell_type": "code",
   "execution_count": 25,
   "metadata": {
    "collapsed": false
   },
   "outputs": [],
   "source": [
    "model = gensim.models.Word2Vec(line_tokens, size=300, window=8, min_count=1)"
   ]
  },
  {
   "cell_type": "code",
   "execution_count": 26,
   "metadata": {
    "collapsed": false
   },
   "outputs": [
    {
     "data": {
      "text/plain": [
       "[('like', 0.7128933668136597),\n",
       " ('eyes', 0.7057667374610901),\n",
       " ('yet', 0.6990523338317871),\n",
       " ('may', 0.6865546107292175),\n",
       " ('heart', 0.6787534952163696),\n",
       " ('whose', 0.6768814325332642),\n",
       " ('make', 0.6766281127929688),\n",
       " ('one', 0.6709225177764893),\n",
       " ('shall', 0.6660017967224121),\n",
       " ('upon', 0.6576135754585266)]"
      ]
     },
     "execution_count": 26,
     "metadata": {},
     "output_type": "execute_result"
    }
   ],
   "source": [
    "model.most_similar(\"love\")"
   ]
  },
  {
   "cell_type": "markdown",
   "metadata": {},
   "source": [
    "It looks a bit more accurate with a more complex model."
   ]
  },
  {
   "cell_type": "code",
   "execution_count": 27,
   "metadata": {
    "collapsed": true
   },
   "outputs": [],
   "source": [
    "model.save('models/word2vec.bin')"
   ]
  },
  {
   "cell_type": "markdown",
   "metadata": {},
   "source": [
    "Try to find the most similar word that still rhymes, and is in our Shakespearean vocabulary"
   ]
  },
  {
   "cell_type": "code",
   "execution_count": 28,
   "metadata": {
    "collapsed": false
   },
   "outputs": [],
   "source": [
    "model = gensim.models.Word2Vec.load('models/word2vec.bin')"
   ]
  },
  {
   "cell_type": "code",
   "execution_count": 31,
   "metadata": {
    "collapsed": false
   },
   "outputs": [],
   "source": [
    "rhymes = find_rhymes(\"love\")"
   ]
  },
  {
   "cell_type": "code",
   "execution_count": 32,
   "metadata": {
    "collapsed": false
   },
   "outputs": [],
   "source": [
    "max_similarity = 0.\n",
    "best_word = None\n",
    "for rhyme in rhymes:\n",
    "    if rhyme == \"love\":\n",
    "        continue\n",
    "    try:\n",
    "        if model.similarity(\"love\", rhyme) > max_similarity:\n",
    "            best_word = rhyme\n",
    "            max_similarity = model.similarity(\"love\", rhyme)\n",
    "    except:\n",
    "        continue"
   ]
  },
  {
   "cell_type": "code",
   "execution_count": 33,
   "metadata": {
    "collapsed": false
   },
   "outputs": [
    {
     "data": {
      "text/plain": [
       "(u'dove', 0.11360605169155266)"
      ]
     },
     "execution_count": 33,
     "metadata": {},
     "output_type": "execute_result"
    }
   ],
   "source": [
    "best_word, max_similarity"
   ]
  },
  {
   "cell_type": "code",
   "execution_count": null,
   "metadata": {
    "collapsed": true
   },
   "outputs": [],
   "source": []
  }
 ],
 "metadata": {
  "kernelspec": {
   "display_name": "Python 2",
   "language": "python",
   "name": "python2"
  },
  "language_info": {
   "codemirror_mode": {
    "name": "ipython",
    "version": 2
   },
   "file_extension": ".py",
   "mimetype": "text/x-python",
   "name": "python",
   "nbconvert_exporter": "python",
   "pygments_lexer": "ipython2",
   "version": "2.7.11"
  }
 },
 "nbformat": 4,
 "nbformat_minor": 1
}
