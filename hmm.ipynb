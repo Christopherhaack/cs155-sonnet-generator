{
 "cells": [
  {
   "cell_type": "markdown",
   "metadata": {},
   "source": [
    "## Test HMMLearn API "
   ]
  },
  {
   "cell_type": "markdown",
   "metadata": {},
   "source": [
    "Just trying out HMMs using the hmmlearn package."
   ]
  },
  {
   "cell_type": "code",
   "execution_count": 24,
   "metadata": {
    "collapsed": true
   },
   "outputs": [],
   "source": [
    "import nltk\n",
    "import string\n",
    "import json\n",
    "import numpy as np\n",
    "\n",
    "from nltk.tokenize import RegexpTokenizer"
   ]
  },
  {
   "cell_type": "code",
   "execution_count": 137,
   "metadata": {
    "collapsed": true
   },
   "outputs": [],
   "source": [
    "def split_lines(filename):\n",
    "    \"\"\"\n",
    "    Tokenizes the file and returns a list of tokens for\n",
    "    each line of poetry in the file.\n",
    "    \"\"\"\n",
    "    # Keep apostrophes and hyphens\n",
    "    tokenizer = RegexpTokenizer('[\\w|\\'|-]+') \n",
    "\n",
    "    line_tokens = []\n",
    "    with open(filename) as f:\n",
    "        for line in f:\n",
    "            line = line.strip()\n",
    "            if (line.isdigit()):\n",
    "                continue\n",
    "            if (len(line) > 0):\n",
    "                line = line.lower()\n",
    "                tokens = tokenizer.tokenize(line)\n",
    "                \n",
    "                line_tokens.append(tokens)\n",
    "\n",
    "    return line_tokens"
   ]
  },
  {
   "cell_type": "code",
   "execution_count": 138,
   "metadata": {
    "collapsed": false
   },
   "outputs": [],
   "source": [
    "files = ['data/shakespeare.txt', 'data/shakespeare_xtra.txt']\n",
    "\n",
    "lines = []\n",
    "for filename in files:\n",
    "    lines.extend(tokenize(filename))"
   ]
  },
  {
   "cell_type": "code",
   "execution_count": 139,
   "metadata": {
    "collapsed": false
   },
   "outputs": [],
   "source": [
    "vocab = json.load(open('models/shakespeare_words/shakespeare_vocab.json'))"
   ]
  },
  {
   "cell_type": "code",
   "execution_count": 143,
   "metadata": {
    "collapsed": false
   },
   "outputs": [],
   "source": [
    "# Change to integer keys\n",
    "for k in vocab.keys():\n",
    "    vocab[int(k)] = vocab.pop(k)"
   ]
  },
  {
   "cell_type": "code",
   "execution_count": 144,
   "metadata": {
    "collapsed": false
   },
   "outputs": [],
   "source": [
    "inverted_vocab = json.load(open('models/shakespeare_words/shakespeare_inverted_vocab.json'))"
   ]
  },
  {
   "cell_type": "code",
   "execution_count": 145,
   "metadata": {
    "collapsed": false
   },
   "outputs": [],
   "source": [
    "from hmmlearn import hmm"
   ]
  },
  {
   "cell_type": "code",
   "execution_count": 146,
   "metadata": {
    "collapsed": true
   },
   "outputs": [],
   "source": [
    "X = np.concatenate([[inverted_vocab[x] for x in lines[i]] for i in range(len(lines))])"
   ]
  },
  {
   "cell_type": "code",
   "execution_count": 147,
   "metadata": {
    "collapsed": true
   },
   "outputs": [],
   "source": [
    "X = X.reshape(-1, 1)"
   ]
  },
  {
   "cell_type": "code",
   "execution_count": 148,
   "metadata": {
    "collapsed": false
   },
   "outputs": [],
   "source": [
    "lengths = np.array([len(line) for line in lines])"
   ]
  },
  {
   "cell_type": "markdown",
   "metadata": {},
   "source": [
    "Use 10 hidden states, to keep things small. Verbose prints log-likelihood in first column, and rate of convergence in the second."
   ]
  },
  {
   "cell_type": "code",
   "execution_count": 149,
   "metadata": {
    "collapsed": false
   },
   "outputs": [
    {
     "name": "stderr",
     "output_type": "stream",
     "text": [
      "         1     -393602.0402             +nan\n",
      "         2     -303234.3343      +90367.7059\n",
      "         3     -303209.4533         +24.8810\n",
      "         4     -303158.7449         +50.7084\n",
      "         5     -303051.7616        +106.9833\n",
      "         6     -302832.3394        +219.4222\n",
      "         7     -302408.6995        +423.6399\n",
      "         8     -301676.3342        +732.3652\n",
      "         9     -300646.7714       +1029.5628\n",
      "        10     -299604.3372       +1042.4341\n",
      "        11     -298867.7790        +736.5582\n",
      "        12     -298440.9457        +426.8334\n",
      "        13     -298167.4229        +273.5228\n",
      "        14     -297934.8488        +232.5740\n",
      "        15     -297681.7100        +253.1389\n",
      "        16     -297365.6720        +316.0380\n",
      "        17     -296955.0520        +410.6200\n",
      "        18     -296434.4197        +520.6323\n",
      "        19     -295804.6282        +629.7914\n",
      "        20     -295080.1548        +724.4734\n",
      "        21     -294272.1765        +807.9783\n",
      "        22     -293366.5581        +905.6184\n",
      "        23     -292319.2308       +1047.3273\n",
      "        24     -291088.3493       +1230.8815\n",
      "        25     -289688.7911       +1399.5582\n",
      "        26     -288227.1732       +1461.6179\n",
      "        27     -286846.6369       +1380.5363\n",
      "        28     -285629.4184       +1217.2185\n",
      "        29     -284566.1857       +1063.2327\n",
      "        30     -283605.0449        +961.1409\n",
      "        31     -282705.3196        +899.7252\n",
      "        32     -281849.4469        +855.8727\n",
      "        33     -281046.3496        +803.0973\n",
      "        34     -280317.5488        +728.8008\n",
      "        35     -279691.4471        +626.1016\n",
      "        36     -279168.8094        +522.6377\n",
      "        37     -278741.2974        +427.5121\n",
      "        38     -278391.0233        +350.2741\n",
      "        39     -278105.0114        +286.0120\n",
      "        40     -277865.1819        +239.8294\n",
      "        41     -277654.8356        +210.3464\n",
      "        42     -277471.4204        +183.4152\n",
      "        43     -277313.1533        +158.2671\n",
      "        44     -277168.7062        +144.4471\n",
      "        45     -277033.7506        +134.9556\n",
      "        46     -276909.9407        +123.8099\n",
      "        47     -276794.1948        +115.7459\n",
      "        48     -276685.8174        +108.3774\n",
      "        49     -276592.1866         +93.6308\n",
      "        50     -276512.4487         +79.7379\n",
      "        51     -276437.6193         +74.8294\n",
      "        52     -276361.3891         +76.2302\n",
      "        53     -276286.9022         +74.4869\n",
      "        54     -276218.4106         +68.4916\n",
      "        55     -276152.7490         +65.6615\n",
      "        56     -276090.1149         +62.6341\n",
      "        57     -276032.1566         +57.9583\n",
      "        58     -275978.9168         +53.2398\n",
      "        59     -275933.9580         +44.9588\n",
      "        60     -275890.5550         +43.4030\n",
      "        61     -275848.0670         +42.4881\n",
      "        62     -275807.6531         +40.4139\n",
      "        63     -275767.8244         +39.8286\n",
      "        64     -275728.8009         +39.0236\n",
      "        65     -275694.7840         +34.0169\n",
      "        66     -275660.5369         +34.2471\n",
      "        67     -275621.9123         +38.6246\n",
      "        68     -275583.7491         +38.1632\n",
      "        69     -275549.2872         +34.4619\n",
      "        70     -275516.0206         +33.2666\n",
      "        71     -275484.6217         +31.3990\n",
      "        72     -275452.2326         +32.3891\n",
      "        73     -275422.7021         +29.5305\n",
      "        74     -275396.4313         +26.2708\n",
      "        75     -275370.8437         +25.5876\n",
      "        76     -275346.1619         +24.6818\n",
      "        77     -275321.3126         +24.8493\n",
      "        78     -275294.8689         +26.4437\n",
      "        79     -275271.0639         +23.8050\n",
      "        80     -275251.5522         +19.5117\n",
      "        81     -275233.6089         +17.9433\n",
      "        82     -275215.3078         +18.3012\n",
      "        83     -275198.5857         +16.7221\n",
      "        84     -275184.5252         +14.0605\n",
      "        85     -275171.8400         +12.6852\n",
      "        86     -275160.0346         +11.8054\n",
      "        87     -275148.4222         +11.6124\n",
      "        88     -275135.6751         +12.7471\n",
      "        89     -275123.0734         +12.6017\n",
      "        90     -275109.8915         +13.1819\n",
      "        91     -275097.3852         +12.5062\n",
      "        92     -275084.2350         +13.1502\n",
      "        93     -275072.5025         +11.7325\n",
      "        94     -275063.0497          +9.4528\n",
      "        95     -275053.2055          +9.8442\n",
      "        96     -275044.6597          +8.5458\n",
      "        97     -275037.0263          +7.6334\n",
      "        98     -275029.9000          +7.1262\n",
      "        99     -275023.9277          +5.9723\n",
      "       100     -275018.0209          +5.9068\n"
     ]
    }
   ],
   "source": [
    "with np.errstate(divide='ignore'):\n",
    "    model = hmm.MultinomialHMM(n_components=10, verbose=True, n_iter=100).fit(X, lengths)"
   ]
  },
  {
   "cell_type": "code",
   "execution_count": 150,
   "metadata": {
    "collapsed": false
   },
   "outputs": [
    {
     "data": {
      "text/plain": [
       "6751"
      ]
     },
     "execution_count": 150,
     "metadata": {},
     "output_type": "execute_result"
    }
   ],
   "source": [
    "model.n_features"
   ]
  },
  {
   "cell_type": "code",
   "execution_count": 151,
   "metadata": {
    "collapsed": false
   },
   "outputs": [
    {
     "data": {
      "text/plain": [
       "(10, 10)"
      ]
     },
     "execution_count": 151,
     "metadata": {},
     "output_type": "execute_result"
    }
   ],
   "source": [
    "model.transmat_.shape"
   ]
  },
  {
   "cell_type": "code",
   "execution_count": 152,
   "metadata": {
    "collapsed": false
   },
   "outputs": [
    {
     "data": {
      "text/plain": [
       "(10, 6751)"
      ]
     },
     "execution_count": 152,
     "metadata": {},
     "output_type": "execute_result"
    }
   ],
   "source": [
    "model.emissionprob_.shape"
   ]
  },
  {
   "cell_type": "code",
   "execution_count": 153,
   "metadata": {
    "collapsed": false
   },
   "outputs": [
    {
     "data": {
      "text/plain": [
       "array([  9.99999981e-01,   1.15490802e-44,   1.85644232e-08,\n",
       "         8.45699884e-18,   1.35766007e-27,   4.95112382e-10,\n",
       "         2.37446847e-22,   3.30822775e-16,   1.43038560e-26,\n",
       "         8.21258867e-42])"
      ]
     },
     "execution_count": 153,
     "metadata": {},
     "output_type": "execute_result"
    }
   ],
   "source": [
    "model.startprob_"
   ]
  },
  {
   "cell_type": "code",
   "execution_count": 155,
   "metadata": {
    "collapsed": false
   },
   "outputs": [
    {
     "data": {
      "text/plain": [
       "5656"
      ]
     },
     "execution_count": 155,
     "metadata": {},
     "output_type": "execute_result"
    }
   ],
   "source": [
    "np.argmax(model.emissionprob_[0])"
   ]
  },
  {
   "cell_type": "code",
   "execution_count": 156,
   "metadata": {
    "collapsed": false
   },
   "outputs": [
    {
     "data": {
      "text/plain": [
       "u'and'"
      ]
     },
     "execution_count": 156,
     "metadata": {},
     "output_type": "execute_result"
    }
   ],
   "source": [
    "vocab[5656]"
   ]
  },
  {
   "cell_type": "markdown",
   "metadata": {},
   "source": [
    "Test a prediction by the HMM"
   ]
  },
  {
   "cell_type": "code",
   "execution_count": 157,
   "metadata": {
    "collapsed": true
   },
   "outputs": [],
   "source": [
    "sample, hidden = model.sample(10)"
   ]
  },
  {
   "cell_type": "code",
   "execution_count": 158,
   "metadata": {
    "collapsed": false
   },
   "outputs": [
    {
     "data": {
      "text/plain": [
       "array([6446, 1809, 1993, 2338,  939, 5656, 2625, 3962, 2605, 5656])"
      ]
     },
     "execution_count": 158,
     "metadata": {},
     "output_type": "execute_result"
    }
   ],
   "source": [
    "sample.T[0]"
   ]
  },
  {
   "cell_type": "code",
   "execution_count": 159,
   "metadata": {
    "collapsed": false
   },
   "outputs": [
    {
     "data": {
      "text/plain": [
       "u'whilst then the cannot beheld and publish thine vomit and'"
      ]
     },
     "execution_count": 159,
     "metadata": {},
     "output_type": "execute_result"
    }
   ],
   "source": [
    "\" \".join(map(lambda x: vocab[x], sample.T[0]))"
   ]
  },
  {
   "cell_type": "code",
   "execution_count": null,
   "metadata": {
    "collapsed": true
   },
   "outputs": [],
   "source": []
  }
 ],
 "metadata": {
  "kernelspec": {
   "display_name": "Python 2",
   "language": "python",
   "name": "python2"
  },
  "language_info": {
   "codemirror_mode": {
    "name": "ipython",
    "version": 2
   },
   "file_extension": ".py",
   "mimetype": "text/x-python",
   "name": "python",
   "nbconvert_exporter": "python",
   "pygments_lexer": "ipython2",
   "version": "2.7.11"
  }
 },
 "nbformat": 4,
 "nbformat_minor": 1
}
